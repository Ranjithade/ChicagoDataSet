{
  "cells": [
    {
      "cell_type": "markdown",
      "metadata": {
        "id": "9dd6afb2-f6a0-4d29-a551-7da4a7f731f8"
      },
      "source": [
        "<center>\n",
        "    <img src=\"https://cf-courses-data.s3.us.cloud-object-storage.appdomain.cloud/IBMDeveloperSkillsNetwork-DB0201EN-SkillsNetwork/labs/FinalModule_Coursera_V5/images/SN_web_lightmode.png\" width=\"300\" alt=\"cognitiveclass.ai logo\">\n",
        "</center>\n",
        "\n",
        "<h1 align=center><font size = 5>Assignment: Notebook for Graded Assessment</font></h1>\n"
      ]
    },
    {
      "cell_type": "markdown",
      "metadata": {
        "id": "d3ced40e-a008-4d6f-90c4-6db24ae5152e"
      },
      "source": [
        "# Introduction\n",
        "\n",
        "Using this Python notebook you will:\n",
        "\n",
        "1.  Understand three Chicago datasets\n",
        "2.  Load the three datasets into three tables in a SQLIte database\n",
        "3.  Execute SQL queries to answer assignment questions\n"
      ]
    },
    {
      "cell_type": "markdown",
      "metadata": {
        "id": "07d73b2c-62b5-4b0a-b4d6-64b824c71596"
      },
      "source": [
        "## Understand the datasets\n",
        "\n",
        "To complete the assignment problems in this notebook you will be using three datasets that are available on the city of Chicago's Data Portal:\n",
        "\n",
        "1.  <a href=\"https://data.cityofchicago.org/Health-Human-Services/Census-Data-Selected-socioeconomic-indicators-in-C/kn9c-c2s2?utm_medium=Exinfluencer&utm_source=Exinfluencer&utm_content=000026UJ&utm_term=10006555&utm_id=NA-SkillsNetwork-Channel-SkillsNetworkCoursesIBMDeveloperSkillsNetworkDB0201ENSkillsNetwork20127838-2021-01-01\">Socioeconomic Indicators in Chicago</a>\n",
        "2.  <a href=\"https://data.cityofchicago.org/Education/Chicago-Public-Schools-Progress-Report-Cards-2011-/9xs2-f89t?utm_medium=Exinfluencer&utm_source=Exinfluencer&utm_content=000026UJ&utm_term=10006555&utm_id=NA-SkillsNetwork-Channel-SkillsNetworkCoursesIBMDeveloperSkillsNetworkDB0201ENSkillsNetwork20127838-2021-01-01\">Chicago Public Schools</a>\n",
        "3.  <a href=\"https://data.cityofchicago.org/Public-Safety/Crimes-2001-to-present/ijzp-q8t2?utm_medium=Exinfluencer&utm_source=Exinfluencer&utm_content=000026UJ&utm_term=10006555&utm_id=NA-SkillsNetwork-Channel-SkillsNetworkCoursesIBMDeveloperSkillsNetworkDB0201ENSkillsNetwork20127838-2021-01-01\">Chicago Crime Data</a>\n",
        "\n",
        "### 1. Socioeconomic Indicators in Chicago\n",
        "\n",
        "This dataset contains a selection of six socioeconomic indicators of public health significance and a “hardship index,” for each Chicago community area, for the years 2008 – 2012.\n",
        "\n",
        "A detailed description of this dataset and the original dataset can be obtained from the Chicago Data Portal at:\n",
        "\n",
        "[https://data.cityofchicago.org/Health-Human-Services/Census-Data-Selected-socioeconomic-indicators-in-C/kn9c-c2s2](https://data.cityofchicago.org/Health-Human-Services/Census-Data-Selected-socioeconomic-indicators-in-C/kn9c-c2s2?utm_medium=Exinfluencer&utm_source=Exinfluencer&utm_content=000026UJ&utm_term=10006555&utm_id=NA-SkillsNetwork-Channel-SkillsNetworkCoursesIBMDeveloperSkillsNetworkDB0201ENSkillsNetwork20127838-2021-01-01&cm_mmc=Email_Newsletter-\\_-Developer_Ed%2BTech-\\_-WW_WW-\\_-SkillsNetwork-Courses-IBMDeveloperSkillsNetwork-DB0201EN-SkillsNetwork-20127838&cm_mmca1=000026UJ&cm_mmca2=10006555&cm_mmca3=M12345678&cvosrc=email.Newsletter.M12345678&cvo_campaign=000026UJ)\n",
        "\n",
        "### 2. Chicago Public Schools\n",
        "\n",
        "This dataset shows all school level performance data used to create CPS School Report Cards for the 2011-2012 school year. This dataset is provided by the city of Chicago's Data Portal.\n",
        "\n",
        "A detailed description of this dataset and the original dataset can be obtained from the Chicago Data Portal at:\n",
        "\n",
        "[https://data.cityofchicago.org/Education/Chicago-Public-Schools-Progress-Report-Cards-2011-/9xs2-f89t](https://data.cityofchicago.org/Education/Chicago-Public-Schools-Progress-Report-Cards-2011-/9xs2-f89t?utm_medium=Exinfluencer&utm_source=Exinfluencer&utm_content=000026UJ&utm_term=10006555&utm_id=NA-SkillsNetwork-Channel-SkillsNetworkCoursesIBMDeveloperSkillsNetworkDB0201ENSkillsNetwork20127838-2021-01-01&cm_mmc=Email_Newsletter-\\_-Developer_Ed%2BTech-\\_-WW_WW-\\_-SkillsNetwork-Courses-IBMDeveloperSkillsNetwork-DB0201EN-SkillsNetwork-20127838&cm_mmca1=000026UJ&cm_mmca2=10006555&cm_mmca3=M12345678&cvosrc=email.Newsletter.M12345678&cvo_campaign=000026UJ)\n",
        "\n",
        "### 3. Chicago Crime Data\n",
        "\n",
        "This dataset reflects reported incidents of crime (with the exception of murders where data exists for each victim) that occurred in the City of Chicago from 2001 to present, minus the most recent seven days.\n",
        "\n",
        "A detailed description of this dataset and the original dataset can be obtained from the Chicago Data Portal at:\n",
        "\n",
        "[https://data.cityofchicago.org/Public-Safety/Crimes-2001-to-present/ijzp-q8t2](https://data.cityofchicago.org/Public-Safety/Crimes-2001-to-present/ijzp-q8t2?utm_medium=Exinfluencer&utm_source=Exinfluencer&utm_content=000026UJ&utm_term=10006555&utm_id=NA-SkillsNetwork-Channel-SkillsNetworkCoursesIBMDeveloperSkillsNetworkDB0201ENSkillsNetwork20127838-2021-01-01&cm_mmc=Email_Newsletter-\\_-Developer_Ed%2BTech-\\_-WW_WW-\\_-SkillsNetwork-Courses-IBMDeveloperSkillsNetwork-DB0201EN-SkillsNetwork-20127838&cm_mmca1=000026UJ&cm_mmca2=10006555&cm_mmca3=M12345678&cvosrc=email.Newsletter.M12345678&cvo_campaign=000026UJ)\n"
      ]
    },
    {
      "cell_type": "markdown",
      "metadata": {
        "id": "b13e2395-4b5e-4694-ae81-9f333d2c686d"
      },
      "source": [
        "### Download the datasets\n",
        "\n",
        "This assignment requires you to have these three tables populated with a subset of the whole datasets.\n",
        "\n",
        "In many cases the dataset to be analyzed is available as a .CSV (comma separated values) file, perhaps on the internet.\n",
        "\n",
        "Use the links below to read the data files using the Pandas library.\n",
        "\n",
        "* Chicago Census Data\n",
        "\n",
        "https://cf-courses-data.s3.us.cloud-object-storage.appdomain.cloud/IBMDeveloperSkillsNetwork-DB0201EN-SkillsNetwork/labs/FinalModule_Coursera_V5/data/ChicagoCensusData.csv?utm_medium=Exinfluencer&utm_source=Exinfluencer&utm_content=000026UJ&utm_term=10006555&utm_id=NA-SkillsNetwork-Channel-SkillsNetworkCoursesIBMDeveloperSkillsNetworkDB0201ENSkillsNetwork20127838-2021-01-01\n",
        "\n",
        "* Chicago Public Schools\n",
        "\n",
        "https://cf-courses-data.s3.us.cloud-object-storage.appdomain.cloud/IBMDeveloperSkillsNetwork-DB0201EN-SkillsNetwork/labs/FinalModule_Coursera_V5/data/ChicagoPublicSchools.csv?utm_medium=Exinfluencer&utm_source=Exinfluencer&utm_content=000026UJ&utm_term=10006555&utm_id=NA-SkillsNetwork-Channel-SkillsNetworkCoursesIBMDeveloperSkillsNetworkDB0201ENSkillsNetwork20127838-2021-01-01\n",
        "\n",
        "* Chicago Crime Data\n",
        "\n",
        "https://cf-courses-data.s3.us.cloud-object-storage.appdomain.cloud/IBMDeveloperSkillsNetwork-DB0201EN-SkillsNetwork/labs/FinalModule_Coursera_V5/data/ChicagoCrimeData.csv?utm_medium=Exinfluencer&utm_source=Exinfluencer&utm_content=000026UJ&utm_term=10006555&utm_id=NA-SkillsNetwork-Channel-SkillsNetworkCoursesIBMDeveloperSkillsNetworkDB0201ENSkillsNetwork20127838-2021-01-01\n",
        "\n",
        "**NOTE:** Ensure you use the datasets available on the links above instead of directly from the Chicago Data Portal. The versions linked here are subsets of the original datasets and have some of the column names modified to be more database friendly which will make it easier to complete this assignment.\n"
      ]
    },
    {
      "cell_type": "markdown",
      "metadata": {
        "id": "7f6b6b24-60e5-413a-8748-c7823ba652f8"
      },
      "source": [
        "Execute the below code cell to avoid prettytable default error.\n"
      ]
    },
    {
      "cell_type": "code",
      "metadata": {
        "colab": {
          "base_uri": "https://localhost:8080/"
        },
        "id": "42a4769f-29dd-4b22-856a-35766c9da550",
        "outputId": "049755a1-981d-4ef3-941e-77de03b046e8"
      },
      "outputs": [
        {
          "output_type": "stream",
          "name": "stdout",
          "text": [
            "Requirement already satisfied: ipython-sql in /usr/local/lib/python3.11/dist-packages (0.5.0)\n",
            "Requirement already satisfied: prettytable in /usr/local/lib/python3.11/dist-packages (3.15.1)\n",
            "Requirement already satisfied: ipython in /usr/local/lib/python3.11/dist-packages (from ipython-sql) (7.34.0)\n",
            "Requirement already satisfied: sqlalchemy>=2.0 in /usr/local/lib/python3.11/dist-packages (from ipython-sql) (2.0.39)\n",
            "Requirement already satisfied: sqlparse in /usr/local/lib/python3.11/dist-packages (from ipython-sql) (0.5.3)\n",
            "Requirement already satisfied: six in /usr/local/lib/python3.11/dist-packages (from ipython-sql) (1.17.0)\n",
            "Requirement already satisfied: ipython-genutils in /usr/local/lib/python3.11/dist-packages (from ipython-sql) (0.2.0)\n",
            "Requirement already satisfied: wcwidth in /usr/local/lib/python3.11/dist-packages (from prettytable) (0.2.13)\n",
            "Requirement already satisfied: greenlet!=0.4.17 in /usr/local/lib/python3.11/dist-packages (from sqlalchemy>=2.0->ipython-sql) (3.1.1)\n",
            "Requirement already satisfied: typing-extensions>=4.6.0 in /usr/local/lib/python3.11/dist-packages (from sqlalchemy>=2.0->ipython-sql) (4.12.2)\n",
            "Requirement already satisfied: setuptools>=18.5 in /usr/local/lib/python3.11/dist-packages (from ipython->ipython-sql) (75.1.0)\n",
            "Collecting jedi>=0.16 (from ipython->ipython-sql)\n",
            "  Downloading jedi-0.19.2-py2.py3-none-any.whl.metadata (22 kB)\n",
            "Requirement already satisfied: decorator in /usr/local/lib/python3.11/dist-packages (from ipython->ipython-sql) (4.4.2)\n",
            "Requirement already satisfied: pickleshare in /usr/local/lib/python3.11/dist-packages (from ipython->ipython-sql) (0.7.5)\n",
            "Requirement already satisfied: traitlets>=4.2 in /usr/local/lib/python3.11/dist-packages (from ipython->ipython-sql) (5.7.1)\n",
            "Requirement already satisfied: prompt-toolkit!=3.0.0,!=3.0.1,<3.1.0,>=2.0.0 in /usr/local/lib/python3.11/dist-packages (from ipython->ipython-sql) (3.0.50)\n",
            "Requirement already satisfied: pygments in /usr/local/lib/python3.11/dist-packages (from ipython->ipython-sql) (2.18.0)\n",
            "Requirement already satisfied: backcall in /usr/local/lib/python3.11/dist-packages (from ipython->ipython-sql) (0.2.0)\n",
            "Requirement already satisfied: matplotlib-inline in /usr/local/lib/python3.11/dist-packages (from ipython->ipython-sql) (0.1.7)\n",
            "Requirement already satisfied: pexpect>4.3 in /usr/local/lib/python3.11/dist-packages (from ipython->ipython-sql) (4.9.0)\n",
            "Requirement already satisfied: parso<0.9.0,>=0.8.4 in /usr/local/lib/python3.11/dist-packages (from jedi>=0.16->ipython->ipython-sql) (0.8.4)\n",
            "Requirement already satisfied: ptyprocess>=0.5 in /usr/local/lib/python3.11/dist-packages (from pexpect>4.3->ipython->ipython-sql) (0.7.0)\n",
            "Downloading jedi-0.19.2-py2.py3-none-any.whl (1.6 MB)\n",
            "\u001b[2K   \u001b[90m━━━━━━━━━━━━━━━━━━━━━━━━━━━━━━━━━━━━━━━━\u001b[0m \u001b[32m1.6/1.6 MB\u001b[0m \u001b[31m14.3 MB/s\u001b[0m eta \u001b[36m0:00:00\u001b[0m\n",
            "\u001b[?25hInstalling collected packages: jedi\n",
            "Successfully installed jedi-0.19.2\n"
          ]
        }
      ],
      "source": [
        "!pip install ipython-sql prettytable\n",
        "\n",
        "import prettytable\n",
        "\n",
        "prettytable.DEFAULT = 'DEFAULT'"
      ],
      "execution_count": 1
    },
    {
      "cell_type": "markdown",
      "metadata": {
        "id": "3d8e2a90-01d0-4cec-bb8a-f3c152262c0e"
      },
      "source": [
        "### Store the datasets in database tables\n",
        "\n",
        "To analyze the data using SQL, it first needs to be loaded into SQLite DB.\n",
        "We will create three tables in as under:\n",
        "\n",
        "1.  **CENSUS_DATA**\n",
        "2.  **CHICAGO_PUBLIC_SCHOOLS**\n",
        "3.  **CHICAGO_CRIME_DATA**\n"
      ]
    },
    {
      "cell_type": "markdown",
      "metadata": {
        "id": "19acd637-3e73-451e-95e8-fcd06427c4ab"
      },
      "source": [
        "Load the `pandas` and `sqlite3` libraries and establish a connection to `FinalDB.db`\n"
      ]
    },
    {
      "cell_type": "code",
      "metadata": {
        "id": "160c58b3-fd0c-4cbc-96d3-a352c0e4c1ca"
      },
      "outputs": [],
      "source": [
        "import csv, sqlite3\n",
        "\n",
        "con = sqlite3.connect(\"RealWorldData.db\")\n",
        "cur = con.cursor()\n"
      ],
      "execution_count": 7
    },
    {
      "cell_type": "markdown",
      "metadata": {
        "id": "510a0699-0f95-4b55-9c9c-8fbea8dec975"
      },
      "source": [
        "Load the SQL magic module\n"
      ]
    },
    {
      "cell_type": "code",
      "metadata": {
        "colab": {
          "base_uri": "https://localhost:8080/"
        },
        "id": "3a5cdd47-86f4-42bf-9001-d3f07c07e2ce",
        "outputId": "1541d3a8-96b0-4f7a-edd3-524d3d095974"
      },
      "outputs": [
        {
          "output_type": "stream",
          "name": "stdout",
          "text": [
            "The sql extension is already loaded. To reload it, use:\n",
            "  %reload_ext sql\n"
          ]
        }
      ],
      "source": [
        "%load_ext sql\n"
      ],
      "execution_count": 8
    },
    {
      "cell_type": "code",
      "source": [
        "%sql sqlite:///RealWorldData.db"
      ],
      "metadata": {
        "id": "bHSCRuPCDLKE"
      },
      "execution_count": 9,
      "outputs": []
    },
    {
      "cell_type": "markdown",
      "metadata": {
        "id": "5b4e9540-4247-47a9-a188-e6a9e1444a64"
      },
      "source": [
        "Use `Pandas` to load the data available in the links above to dataframes. Use these dataframes to load data on to the database `FinalDB.db` as required tables.\n"
      ]
    },
    {
      "cell_type": "code",
      "metadata": {
        "colab": {
          "base_uri": "https://localhost:8080/"
        },
        "id": "6ab835f9-ba37-4bf1-b732-7a3404185166",
        "outputId": "8fc945b8-f8b1-4a13-b455-35932f2ac98a"
      },
      "outputs": [
        {
          "output_type": "execute_result",
          "data": {
            "text/plain": [
              "566"
            ]
          },
          "metadata": {},
          "execution_count": 10
        }
      ],
      "source": [
        "import pandas\n",
        "df = pandas.read_csv(\"https://cf-courses-data.s3.us.cloud-object-storage.appdomain.cloud/IBMDeveloperSkillsNetwork-DB0201EN-SkillsNetwork/labs/FinalModule_Coursera_V5/data/ChicagoCensusData.csv\")\n",
        "df.to_sql(\"CENSUS_DATA\", con, if_exists='replace', index=False,method=\"multi\")\n",
        "\n",
        "df = pandas.read_csv(\"https://cf-courses-data.s3.us.cloud-object-storage.appdomain.cloud/IBMDeveloperSkillsNetwork-DB0201EN-SkillsNetwork/labs/FinalModule_Coursera_V5/data/ChicagoCrimeData.csv\")\n",
        "df.to_sql(\"CHICAGO_CRIME_DATA\", con, if_exists='replace', index=False, method=\"multi\")\n",
        "\n",
        "df = pandas.read_csv(\"https://cf-courses-data.s3.us.cloud-object-storage.appdomain.cloud/IBMDeveloperSkillsNetwork-DB0201EN-SkillsNetwork/labs/FinalModule_Coursera_V5/data/ChicagoPublicSchools.csv\")\n",
        "df.to_sql(\"CHICAGO_PUBLIC_SCHOOLS_DATA\", con, if_exists='replace', index=False, method=\"multi\")"
      ],
      "execution_count": 10
    },
    {
      "cell_type": "markdown",
      "metadata": {
        "id": "2448eeb5-12e6-4898-8e31-832a93785e7a"
      },
      "source": [
        "Establish a connection between SQL magic module and the database `FinalDB.db`\n"
      ]
    },
    {
      "cell_type": "code",
      "metadata": {
        "colab": {
          "base_uri": "https://localhost:8080/",
          "height": 157
        },
        "id": "d840ed53-d257-46e9-af7c-92ea3b1e6507",
        "outputId": "eedc2da2-124c-4ee5-b9d2-f1264f4312b4"
      },
      "outputs": [
        {
          "output_type": "stream",
          "name": "stdout",
          "text": [
            "   sqlite:///FinalDB.db\n",
            " * sqlite:///RealWorldData.db\n",
            "Done.\n"
          ]
        },
        {
          "output_type": "execute_result",
          "data": {
            "text/plain": [
              "[('CENSUS_DATA',), ('CHICAGO_CRIME_DATA',), ('CHICAGO_PUBLIC_SCHOOLS_DATA',)]"
            ],
            "text/html": [
              "<table>\n",
              "    <thead>\n",
              "        <tr>\n",
              "            <th>name</th>\n",
              "        </tr>\n",
              "    </thead>\n",
              "    <tbody>\n",
              "        <tr>\n",
              "            <td>CENSUS_DATA</td>\n",
              "        </tr>\n",
              "        <tr>\n",
              "            <td>CHICAGO_CRIME_DATA</td>\n",
              "        </tr>\n",
              "        <tr>\n",
              "            <td>CHICAGO_PUBLIC_SCHOOLS_DATA</td>\n",
              "        </tr>\n",
              "    </tbody>\n",
              "</table>"
            ]
          },
          "metadata": {},
          "execution_count": 11
        }
      ],
      "source": [
        "%sql SELECT name FROM sqlite_master WHERE type='table'"
      ],
      "execution_count": 11
    },
    {
      "cell_type": "code",
      "source": [
        "%sql SELECT count(name) FROM PRAGMA_TABLE_INFO('CHICAGO_PUBLIC_SCHOOLS_DATA');"
      ],
      "metadata": {
        "colab": {
          "base_uri": "https://localhost:8080/",
          "height": 114
        },
        "id": "kdt863ggF5O8",
        "outputId": "f76b7e3d-0bac-4176-f119-8ccc76938f38"
      },
      "execution_count": 12,
      "outputs": [
        {
          "output_type": "stream",
          "name": "stdout",
          "text": [
            "   sqlite:///FinalDB.db\n",
            " * sqlite:///RealWorldData.db\n",
            "Done.\n"
          ]
        },
        {
          "output_type": "execute_result",
          "data": {
            "text/plain": [
              "[(78,)]"
            ],
            "text/html": [
              "<table>\n",
              "    <thead>\n",
              "        <tr>\n",
              "            <th>count(name)</th>\n",
              "        </tr>\n",
              "    </thead>\n",
              "    <tbody>\n",
              "        <tr>\n",
              "            <td>78</td>\n",
              "        </tr>\n",
              "    </tbody>\n",
              "</table>"
            ]
          },
          "metadata": {},
          "execution_count": 12
        }
      ]
    },
    {
      "cell_type": "markdown",
      "metadata": {
        "id": "fa2690d5-7f74-40c1-8504-7156d7a928c3"
      },
      "source": [
        "You can now proceed to the the following questions. Please note that a graded assignment will follow this lab and there will be a question on each of the problems stated below. It can be from the answer you received or the code you write for this problem. Therefore, please keep a note of both your codes as well as the response you generate.\n"
      ]
    },
    {
      "cell_type": "markdown",
      "metadata": {
        "id": "643b317b-661f-4f02-9272-cc6f20d1bfae"
      },
      "source": [
        "## Problems\n",
        "\n",
        "Now write and execute SQL queries to solve assignment problems\n",
        "\n",
        "### Problem 1\n",
        "\n",
        "##### Find the total number of crimes recorded in the CRIME table.\n"
      ]
    },
    {
      "cell_type": "code",
      "metadata": {
        "colab": {
          "base_uri": "https://localhost:8080/",
          "height": 114
        },
        "id": "1de22411-3b11-4823-abc8-352625c1573d",
        "outputId": "1c5d0258-ae01-4146-dcef-c754de1b0bfd"
      },
      "outputs": [
        {
          "output_type": "stream",
          "name": "stdout",
          "text": [
            "   sqlite:///FinalDB.db\n",
            " * sqlite:///RealWorldData.db\n",
            "Done.\n"
          ]
        },
        {
          "output_type": "execute_result",
          "data": {
            "text/plain": [
              "[(533,)]"
            ],
            "text/html": [
              "<table>\n",
              "    <thead>\n",
              "        <tr>\n",
              "            <th>TOTAL_CRIMES</th>\n",
              "        </tr>\n",
              "    </thead>\n",
              "    <tbody>\n",
              "        <tr>\n",
              "            <td>533</td>\n",
              "        </tr>\n",
              "    </tbody>\n",
              "</table>"
            ]
          },
          "metadata": {},
          "execution_count": 13
        }
      ],
      "source": [
        "# Rows in Crime Table\n",
        "%sql select COUNT(*) AS TOTAL_CRIMES \\\n",
        "from CHICAGO_CRIME_DATA"
      ],
      "execution_count": 13
    },
    {
      "cell_type": "markdown",
      "metadata": {
        "id": "087878d7-170c-4e02-9ea2-2e349aff0418"
      },
      "source": [
        "### Problem 2\n",
        "\n",
        "##### List community area names and numbers with per capita income less than 11000.\n"
      ]
    },
    {
      "cell_type": "code",
      "metadata": {
        "colab": {
          "base_uri": "https://localhost:8080/",
          "height": 178
        },
        "id": "c404b402-871f-409c-aad7-a25fa4975f06",
        "outputId": "23c6f25e-9543-45d6-90ce-846d8f5ba566"
      },
      "outputs": [
        {
          "output_type": "stream",
          "name": "stdout",
          "text": [
            "   sqlite:///FinalDB.db\n",
            " * sqlite:///RealWorldData.db\n",
            "Done.\n"
          ]
        },
        {
          "output_type": "execute_result",
          "data": {
            "text/plain": [
              "[('West Garfield Park',),\n",
              " ('South Lawndale',),\n",
              " ('Fuller Park',),\n",
              " ('Riverdale',)]"
            ],
            "text/html": [
              "<table>\n",
              "    <thead>\n",
              "        <tr>\n",
              "            <th>COMMUNITY_AREA_NAME</th>\n",
              "        </tr>\n",
              "    </thead>\n",
              "    <tbody>\n",
              "        <tr>\n",
              "            <td>West Garfield Park</td>\n",
              "        </tr>\n",
              "        <tr>\n",
              "            <td>South Lawndale</td>\n",
              "        </tr>\n",
              "        <tr>\n",
              "            <td>Fuller Park</td>\n",
              "        </tr>\n",
              "        <tr>\n",
              "            <td>Riverdale</td>\n",
              "        </tr>\n",
              "    </tbody>\n",
              "</table>"
            ]
          },
          "metadata": {},
          "execution_count": 14
        }
      ],
      "source": [
        "%sql SELECT COMMUNITY_AREA_NAME FROM CENSUS_DATA WHERE PER_CAPITA_INCOME < 11000;"
      ],
      "execution_count": 14
    },
    {
      "cell_type": "markdown",
      "metadata": {
        "id": "71ec70a6-4e33-4ab1-ac74-2fb8ecba903f"
      },
      "source": [
        "### Problem 3\n",
        "\n",
        "##### List all case numbers for crimes involving minors?(children are not considered minors for the purposes of crime analysis)\n"
      ]
    },
    {
      "cell_type": "code",
      "metadata": {
        "colab": {
          "base_uri": "https://localhost:8080/",
          "height": 135
        },
        "id": "cc12c9e7-b1dd-4021-ac54-01ddb57d537f",
        "outputId": "d2a2c560-dca7-4e6a-df77-d84bc471d81f"
      },
      "outputs": [
        {
          "output_type": "stream",
          "name": "stdout",
          "text": [
            "   sqlite:///FinalDB.db\n",
            " * sqlite:///RealWorldData.db\n",
            "Done.\n"
          ]
        },
        {
          "output_type": "execute_result",
          "data": {
            "text/plain": [
              "[('HL266884',), ('HK238408',)]"
            ],
            "text/html": [
              "<table>\n",
              "    <thead>\n",
              "        <tr>\n",
              "            <th>CASE_NUMBER</th>\n",
              "        </tr>\n",
              "    </thead>\n",
              "    <tbody>\n",
              "        <tr>\n",
              "            <td>HL266884</td>\n",
              "        </tr>\n",
              "        <tr>\n",
              "            <td>HK238408</td>\n",
              "        </tr>\n",
              "    </tbody>\n",
              "</table>"
            ]
          },
          "metadata": {},
          "execution_count": 15
        }
      ],
      "source": [
        "%sql SELECT DISTINCT CASE_NUMBER FROM CHICAGO_CRIME_DATA WHERE DESCRIPTION LIKE '%MINOR%'"
      ],
      "execution_count": 15
    },
    {
      "cell_type": "markdown",
      "metadata": {
        "id": "154da755-1ebb-49e5-a0a5-a611fcfea7a0"
      },
      "source": [
        "### Problem 4\n",
        "\n",
        "##### List all kidnapping crimes involving a child?\n"
      ]
    },
    {
      "cell_type": "code",
      "metadata": {
        "colab": {
          "base_uri": "https://localhost:8080/",
          "height": 114
        },
        "id": "31baf0e8-5367-4f23-af98-07af0a1e2c33",
        "outputId": "5e72a5ac-1ba7-41f7-856f-1e9726018807"
      },
      "outputs": [
        {
          "output_type": "stream",
          "name": "stdout",
          "text": [
            "   sqlite:///FinalDB.db\n",
            " * sqlite:///RealWorldData.db\n",
            "Done.\n"
          ]
        },
        {
          "output_type": "execute_result",
          "data": {
            "text/plain": [
              "[('HN144152', 'KIDNAPPING', '2007-01-26', 'CHILD ABDUCTION/STRANGER')]"
            ],
            "text/html": [
              "<table>\n",
              "    <thead>\n",
              "        <tr>\n",
              "            <th>CASE_NUMBER</th>\n",
              "            <th>PRIMARY_TYPE</th>\n",
              "            <th>DATE</th>\n",
              "            <th>DESCRIPTION</th>\n",
              "        </tr>\n",
              "    </thead>\n",
              "    <tbody>\n",
              "        <tr>\n",
              "            <td>HN144152</td>\n",
              "            <td>KIDNAPPING</td>\n",
              "            <td>2007-01-26</td>\n",
              "            <td>CHILD ABDUCTION/STRANGER</td>\n",
              "        </tr>\n",
              "    </tbody>\n",
              "</table>"
            ]
          },
          "metadata": {},
          "execution_count": 16
        }
      ],
      "source": [
        "%sql SELECT DISTINCT CASE_NUMBER, PRIMARY_TYPE, DATE, DESCRIPTION FROM CHICAGO_CRIME_DATA \\\n",
        "WHERE PRIMARY_TYPE='KIDNAPPING'"
      ],
      "execution_count": 16
    },
    {
      "cell_type": "markdown",
      "metadata": {
        "id": "1b1bf6ce-beed-4e60-a12c-7fcbdadf8fe0"
      },
      "source": [
        "### Problem 5\n",
        "\n",
        "##### List the kind of crimes that were recorded at schools. (No repetitions)\n"
      ]
    },
    {
      "cell_type": "code",
      "metadata": {
        "colab": {
          "base_uri": "https://localhost:8080/",
          "height": 285
        },
        "id": "5780b5f7-a71d-415c-be7a-02282f451036",
        "outputId": "37985d2c-8da8-495e-b5c5-8ae7f938c012"
      },
      "outputs": [
        {
          "output_type": "stream",
          "name": "stdout",
          "text": [
            "   sqlite:///FinalDB.db\n",
            " * sqlite:///RealWorldData.db\n",
            "Done.\n"
          ]
        },
        {
          "output_type": "execute_result",
          "data": {
            "text/plain": [
              "[('BATTERY', 'SCHOOL, PUBLIC, GROUNDS'),\n",
              " ('BATTERY', 'SCHOOL, PUBLIC, BUILDING'),\n",
              " ('CRIMINAL DAMAGE', 'SCHOOL, PUBLIC, GROUNDS'),\n",
              " ('NARCOTICS', 'SCHOOL, PUBLIC, GROUNDS'),\n",
              " ('NARCOTICS', 'SCHOOL, PUBLIC, BUILDING'),\n",
              " ('ASSAULT', 'SCHOOL, PUBLIC, GROUNDS'),\n",
              " ('CRIMINAL TRESPASS', 'SCHOOL, PUBLIC, GROUNDS'),\n",
              " ('PUBLIC PEACE VIOLATION', 'SCHOOL, PRIVATE, BUILDING'),\n",
              " ('PUBLIC PEACE VIOLATION', 'SCHOOL, PUBLIC, BUILDING')]"
            ],
            "text/html": [
              "<table>\n",
              "    <thead>\n",
              "        <tr>\n",
              "            <th>PRIMARY_TYPE</th>\n",
              "            <th>LOCATION_DESCRIPTION</th>\n",
              "        </tr>\n",
              "    </thead>\n",
              "    <tbody>\n",
              "        <tr>\n",
              "            <td>BATTERY</td>\n",
              "            <td>SCHOOL, PUBLIC, GROUNDS</td>\n",
              "        </tr>\n",
              "        <tr>\n",
              "            <td>BATTERY</td>\n",
              "            <td>SCHOOL, PUBLIC, BUILDING</td>\n",
              "        </tr>\n",
              "        <tr>\n",
              "            <td>CRIMINAL DAMAGE</td>\n",
              "            <td>SCHOOL, PUBLIC, GROUNDS</td>\n",
              "        </tr>\n",
              "        <tr>\n",
              "            <td>NARCOTICS</td>\n",
              "            <td>SCHOOL, PUBLIC, GROUNDS</td>\n",
              "        </tr>\n",
              "        <tr>\n",
              "            <td>NARCOTICS</td>\n",
              "            <td>SCHOOL, PUBLIC, BUILDING</td>\n",
              "        </tr>\n",
              "        <tr>\n",
              "            <td>ASSAULT</td>\n",
              "            <td>SCHOOL, PUBLIC, GROUNDS</td>\n",
              "        </tr>\n",
              "        <tr>\n",
              "            <td>CRIMINAL TRESPASS</td>\n",
              "            <td>SCHOOL, PUBLIC, GROUNDS</td>\n",
              "        </tr>\n",
              "        <tr>\n",
              "            <td>PUBLIC PEACE VIOLATION</td>\n",
              "            <td>SCHOOL, PRIVATE, BUILDING</td>\n",
              "        </tr>\n",
              "        <tr>\n",
              "            <td>PUBLIC PEACE VIOLATION</td>\n",
              "            <td>SCHOOL, PUBLIC, BUILDING</td>\n",
              "        </tr>\n",
              "    </tbody>\n",
              "</table>"
            ]
          },
          "metadata": {},
          "execution_count": 17
        }
      ],
      "source": [
        "%sql SELECT DISTINCT(PRIMARY_TYPE), LOCATION_DESCRIPTION FROM CHICAGO_CRIME_DATA \\\n",
        "WHERE LOCATION_DESCRIPTION LIKE '%SCHOOL%'"
      ],
      "execution_count": 17
    },
    {
      "cell_type": "markdown",
      "metadata": {
        "id": "79fb5931-d9a9-4682-a8d2-27e79787b4c4"
      },
      "source": [
        "### Problem 6\n",
        "\n",
        "##### List the type of schools along with the average safety score for each type.\n"
      ]
    },
    {
      "cell_type": "code",
      "metadata": {
        "colab": {
          "base_uri": "https://localhost:8080/",
          "height": 157
        },
        "id": "b07434a2-7b18-47e4-bacf-89efcf08d788",
        "outputId": "3837906d-ef55-48b5-d6a1-a27594fa235b"
      },
      "outputs": [
        {
          "output_type": "stream",
          "name": "stdout",
          "text": [
            "   sqlite:///FinalDB.db\n",
            " * sqlite:///RealWorldData.db\n",
            "Done.\n"
          ]
        },
        {
          "output_type": "execute_result",
          "data": {
            "text/plain": [
              "[('ES', 49.52038369304557), ('HS', 49.62352941176471), ('MS', 48.0)]"
            ],
            "text/html": [
              "<table>\n",
              "    <thead>\n",
              "        <tr>\n",
              "            <th>Elementary, Middle, or High School</th>\n",
              "            <th>AVERAGE_SAFETY_SCORE</th>\n",
              "        </tr>\n",
              "    </thead>\n",
              "    <tbody>\n",
              "        <tr>\n",
              "            <td>ES</td>\n",
              "            <td>49.52038369304557</td>\n",
              "        </tr>\n",
              "        <tr>\n",
              "            <td>HS</td>\n",
              "            <td>49.62352941176471</td>\n",
              "        </tr>\n",
              "        <tr>\n",
              "            <td>MS</td>\n",
              "            <td>48.0</td>\n",
              "        </tr>\n",
              "    </tbody>\n",
              "</table>"
            ]
          },
          "metadata": {},
          "execution_count": 18
        }
      ],
      "source": [
        "%sql SELECT \"Elementary, Middle, or High School\", AVG(SAFETY_SCORE) AVERAGE_SAFETY_SCORE \\\n",
        "FROM CHICAGO_PUBLIC_SCHOOLS_DATA GROUP BY \"Elementary, Middle, or High School\";"
      ],
      "execution_count": 18
    },
    {
      "cell_type": "markdown",
      "metadata": {
        "id": "da7adb06-5c12-4bc7-ad9d-f338e0a2cfc4"
      },
      "source": [
        "### Problem 7\n",
        "\n",
        "##### List 5 community areas with highest % of households below poverty line\n"
      ]
    },
    {
      "cell_type": "code",
      "metadata": {
        "colab": {
          "base_uri": "https://localhost:8080/",
          "height": 199
        },
        "id": "edee6225-92fa-4707-a2a4-5554cb1d5f50",
        "outputId": "160bab06-8017-4691-d600-b8dce73923a1"
      },
      "outputs": [
        {
          "output_type": "stream",
          "name": "stdout",
          "text": [
            "   sqlite:///FinalDB.db\n",
            " * sqlite:///RealWorldData.db\n",
            "Done.\n"
          ]
        },
        {
          "output_type": "execute_result",
          "data": {
            "text/plain": [
              "[('Riverdale', 56.5),\n",
              " ('Fuller Park', 51.2),\n",
              " ('Englewood', 46.6),\n",
              " ('North Lawndale', 43.1),\n",
              " ('East Garfield Park', 42.4)]"
            ],
            "text/html": [
              "<table>\n",
              "    <thead>\n",
              "        <tr>\n",
              "            <th>COMMUNITY_AREA_NAME</th>\n",
              "            <th>PERCENT_HOUSEHOLDS_BELOW_POVERTY</th>\n",
              "        </tr>\n",
              "    </thead>\n",
              "    <tbody>\n",
              "        <tr>\n",
              "            <td>Riverdale</td>\n",
              "            <td>56.5</td>\n",
              "        </tr>\n",
              "        <tr>\n",
              "            <td>Fuller Park</td>\n",
              "            <td>51.2</td>\n",
              "        </tr>\n",
              "        <tr>\n",
              "            <td>Englewood</td>\n",
              "            <td>46.6</td>\n",
              "        </tr>\n",
              "        <tr>\n",
              "            <td>North Lawndale</td>\n",
              "            <td>43.1</td>\n",
              "        </tr>\n",
              "        <tr>\n",
              "            <td>East Garfield Park</td>\n",
              "            <td>42.4</td>\n",
              "        </tr>\n",
              "    </tbody>\n",
              "</table>"
            ]
          },
          "metadata": {},
          "execution_count": 19
        }
      ],
      "source": [
        "%sql SELECT COMMUNITY_AREA_NAME, PERCENT_HOUSEHOLDS_BELOW_POVERTY FROM CENSUS_DATA ORDER BY PERCENT_HOUSEHOLDS_BELOW_POVERTY DESC LIMIT 5"
      ],
      "execution_count": 19
    },
    {
      "cell_type": "markdown",
      "metadata": {
        "id": "70500140-3615-42d2-9f07-8f9a65b4c55d"
      },
      "source": [
        "### Problem 8\n",
        "\n",
        "##### Which community area is most crime prone? Display the coumminty area number only.\n"
      ]
    },
    {
      "cell_type": "code",
      "metadata": {
        "colab": {
          "base_uri": "https://localhost:8080/",
          "height": 114
        },
        "id": "21cbd86f-5cdd-4229-a8e0-4624ce437b6e",
        "outputId": "a688347c-8aee-4ada-8660-53a43263417e"
      },
      "outputs": [
        {
          "output_type": "stream",
          "name": "stdout",
          "text": [
            "   sqlite:///FinalDB.db\n",
            " * sqlite:///RealWorldData.db\n",
            "Done.\n"
          ]
        },
        {
          "output_type": "execute_result",
          "data": {
            "text/plain": [
              "[(25.0, 43)]"
            ],
            "text/html": [
              "<table>\n",
              "    <thead>\n",
              "        <tr>\n",
              "            <th>COMMUNITY_AREA_NUMBER</th>\n",
              "            <th>FREQUENCY</th>\n",
              "        </tr>\n",
              "    </thead>\n",
              "    <tbody>\n",
              "        <tr>\n",
              "            <td>25.0</td>\n",
              "            <td>43</td>\n",
              "        </tr>\n",
              "    </tbody>\n",
              "</table>"
            ]
          },
          "metadata": {},
          "execution_count": 20
        }
      ],
      "source": [
        "%%sql\n",
        "SELECT COMMUNITY_AREA_NUMBER ,COUNT(COMMUNITY_AREA_NUMBER) AS FREQUENCY\n",
        "FROM CHICAGO_CRIME_DATA\n",
        "GROUP BY COMMUNITY_AREA_NUMBER\n",
        "ORDER BY COUNT(COMMUNITY_AREA_NUMBER) DESC\n",
        "LIMIT 1;"
      ],
      "execution_count": 20
    },
    {
      "cell_type": "markdown",
      "metadata": {
        "id": "f2409681-e46e-4813-b22e-3a77dadd25a1"
      },
      "source": [
        "\n",
        "Double-click **here** for a hint\n",
        "\n",
        "<!--\n",
        "Query for the 'community area number' that has most number of incidents\n",
        "-->\n"
      ]
    },
    {
      "cell_type": "markdown",
      "metadata": {
        "id": "93d08e4b-8822-418c-9595-4ba7a5710df2"
      },
      "source": [
        "### Problem 9\n",
        "\n",
        "##### Use a sub-query to find the name of the community area with highest hardship index\n"
      ]
    },
    {
      "cell_type": "code",
      "metadata": {
        "colab": {
          "base_uri": "https://localhost:8080/",
          "height": 114
        },
        "id": "f3e290a6-a75c-4d78-875a-b8628ddf7726",
        "outputId": "6673688b-6fb4-4fd0-8520-e48dada9fb84"
      },
      "outputs": [
        {
          "output_type": "stream",
          "name": "stdout",
          "text": [
            "   sqlite:///FinalDB.db\n",
            " * sqlite:///RealWorldData.db\n",
            "Done.\n"
          ]
        },
        {
          "output_type": "execute_result",
          "data": {
            "text/plain": [
              "[('Riverdale',)]"
            ],
            "text/html": [
              "<table>\n",
              "    <thead>\n",
              "        <tr>\n",
              "            <th>COMMUNITY_AREA_NAME</th>\n",
              "        </tr>\n",
              "    </thead>\n",
              "    <tbody>\n",
              "        <tr>\n",
              "            <td>Riverdale</td>\n",
              "        </tr>\n",
              "    </tbody>\n",
              "</table>"
            ]
          },
          "metadata": {},
          "execution_count": 21
        }
      ],
      "source": [
        "%sql SELECT COMMUNITY_AREA_NAME FROM  CENSUS_DATA WHERE HARDSHIP_INDEX = (SELECT MAX(HARDSHIP_INDEX) FROM CENSUS_DATA);"
      ],
      "execution_count": 21
    },
    {
      "cell_type": "markdown",
      "metadata": {
        "id": "79248a13-8cf3-4cd5-93e6-a4e03fca6de3"
      },
      "source": [
        "### Problem 10\n",
        "\n",
        "##### Use a sub-query to determine the Community Area Name with most number of crimes?\n"
      ]
    },
    {
      "cell_type": "code",
      "metadata": {
        "colab": {
          "base_uri": "https://localhost:8080/",
          "height": 114
        },
        "id": "91fa8841-5219-412a-a7d5-0db0cbeeea5e",
        "outputId": "3f25003f-f801-46d8-b34e-2c629cc69e91"
      },
      "outputs": [
        {
          "output_type": "stream",
          "name": "stdout",
          "text": [
            "   sqlite:///FinalDB.db\n",
            " * sqlite:///RealWorldData.db\n",
            "Done.\n"
          ]
        },
        {
          "output_type": "execute_result",
          "data": {
            "text/plain": [
              "[('Austin',)]"
            ],
            "text/html": [
              "<table>\n",
              "    <thead>\n",
              "        <tr>\n",
              "            <th>COMMUNITY_AREA_NAME</th>\n",
              "        </tr>\n",
              "    </thead>\n",
              "    <tbody>\n",
              "        <tr>\n",
              "            <td>Austin</td>\n",
              "        </tr>\n",
              "    </tbody>\n",
              "</table>"
            ]
          },
          "metadata": {},
          "execution_count": 22
        }
      ],
      "source": [
        "%%sql\n",
        "SELECT community_area_name FROM CENSUS_DATA\n",
        "WHERE COMMUNITY_AREA_NUMBER = (SELECT COMMUNITY_AREA_NUMBER FROM CHICAGO_CRIME_DATA\n",
        "    GROUP BY COMMUNITY_AREA_NUMBER\n",
        "    ORDER BY COUNT(COMMUNITY_AREA_NUMBER) DESC\n",
        "    LIMIT 1)\n",
        "LIMIT 1;"
      ],
      "execution_count": 22
    },
    {
      "cell_type": "markdown",
      "metadata": {
        "id": "86a49480-85ec-4fd9-b4c9-e9f3dae41452"
      },
      "source": [
        "## Author(s)\n",
        "\n",
        "<h4> Hima Vasudevan </h4>\n",
        "<h4> Rav Ahuja </h4>\n",
        "<h4> Ramesh Sannreddy </h4>\n",
        "\n",
        "## Contribtuor(s)\n",
        "\n",
        "<h4> Malika Singla </h4>\n",
        "<h4>Abhishek Gagneja</h4>\n",
        "<!--\n",
        "## Change log\n",
        "\n",
        "| Date       | Version | Changed by        | Change Description                             |\n",
        "| ---------- | ------- | ----------------- | ---------------------------------------------- |\n",
        "|2023-10-18  | 2.6     | Abhishek Gagneja  | Modified instruction set |\n",
        "| 2022-03-04 | 2.5     | Lakshmi Holla     | Changed markdown.                   |\n",
        "| 2021-05-19 | 2.4     | Lakshmi Holla     | Updated the question                           |\n",
        "| 2021-04-30 | 2.3     | Malika Singla     | Updated the libraries                          |\n",
        "| 2021-01-15 | 2.2     | Rav Ahuja         | Removed problem 11 and fixed changelog         |\n",
        "| 2020-11-25 | 2.1     | Ramesh Sannareddy | Updated the problem statements, and datasets   |\n",
        "| 2020-09-05 | 2.0     | Malika Singla     | Moved lab to course repo in GitLab             |\n",
        "| 2018-07-18 | 1.0     | Rav Ahuja         | Several updates including loading instructions |\n",
        "| 2018-05-04 | 0.1     | Hima Vasudevan    | Created initial version                        |\n",
        "-->\n",
        "## <h3 align=\"center\"> © IBM Corporation 2023. All rights reserved. <h3/>\n"
      ]
    }
  ],
  "metadata": {
    "kernelspec": {
      "name": "python3",
      "display_name": "Python 3 (ipykernel)",
      "language": "python"
    },
    "language_info": {
      "name": "python",
      "version": "3.11.9",
      "mimetype": "text/x-python",
      "codemirror_mode": {
        "name": "ipython",
        "version": 3
      },
      "pygments_lexer": "ipython3",
      "nbconvert_exporter": "python",
      "file_extension": ".py"
    },
    "prev_pub_hash": "1d4caa9dff548bba47d8f4339e735e64605120c41df87b27e2c5cffed5fd81c9",
    "colab": {
      "provenance": []
    }
  },
  "nbformat": 4,
  "nbformat_minor": 0
}